{
 "cells": [
  {
   "cell_type": "code",
   "execution_count": 1,
   "id": "94b638a6",
   "metadata": {},
   "outputs": [
    {
     "data": {
      "text/html": [
       "Current session configs: <tt>{'executorMemory': '9G', 'executorCores': 5, 'numExecutors': 6, 'driverMemory': '9G', 'conf': {'spark.pyspark.python': 'python3', 'spark.pyspark.virtualenv.enabled': 'true', 'spark.pyspark.virtualenv.type': 'native', 'spark.pyspark.virtualenv.bin.path': '/usr/bin/virtualenv'}, 'proxyUser': 'user_nyc-spark-user', 'kind': 'pyspark'}</tt><br>"
      ],
      "text/plain": [
       "<IPython.core.display.HTML object>"
      ]
     },
     "metadata": {},
     "output_type": "display_data"
    },
    {
     "data": {
      "text/html": [
       "<table>\n",
       "<tr><th>ID</th><th>YARN Application ID</th><th>Kind</th><th>State</th><th>Spark UI</th><th>Driver log</th><th>Current session?</th></tr><tr><td>4</td><td>application_1643027560635_0005</td><td>pyspark</td><td>idle</td><td><a target=\"_blank\" href=\"http://ip-172-31-90-185.ec2.internal:20888/proxy/application_1643027560635_0005/\" class=\"emr-proxy-link\" emr-resource=\"j-19BWPUGR7YEP9\n",
       "\" application-id=\"application_1643027560635_0005\">Link</a></td><td><a target=\"_blank\" href=\"http://ip-172-31-84-231.ec2.internal:8042/node/containerlogs/container_1643027560635_0005_01_000001/livy\" >Link</a></td><td></td></tr><tr><td>7</td><td>application_1643027560635_0008</td><td>pyspark</td><td>shutting_down</td><td><a target=\"_blank\" href=\"http://ip-172-31-90-185.ec2.internal:20888/proxy/application_1643027560635_0008/\" class=\"emr-proxy-link\" emr-resource=\"j-19BWPUGR7YEP9\n",
       "\" application-id=\"application_1643027560635_0008\">Link</a></td><td><a target=\"_blank\" href=\"http://ip-172-31-84-231.ec2.internal:8042/node/containerlogs/container_1643027560635_0008_01_000001/livy\" >Link</a></td><td></td></tr></table>"
      ],
      "text/plain": [
       "<IPython.core.display.HTML object>"
      ]
     },
     "metadata": {},
     "output_type": "display_data"
    }
   ],
   "source": [
    "%%configure -f\n",
    "{\"executorMemory\":\"9G\",\"executorCores\":5,\"numExecutors\":6,\"driverMemory\":\"9G\",\n",
    " \"conf\": {\n",
    "        \"spark.pyspark.python\": \"python3\",\n",
    "        \"spark.pyspark.virtualenv.enabled\": \"true\",\n",
    "        \"spark.pyspark.virtualenv.type\":\"native\",\n",
    "        \"spark.pyspark.virtualenv.bin.path\":\"/usr/bin/virtualenv\"\n",
    "     \n",
    "    }}"
   ]
  },
  {
   "cell_type": "code",
   "execution_count": 2,
   "id": "48a84c71",
   "metadata": {},
   "outputs": [
    {
     "data": {
      "application/vnd.jupyter.widget-view+json": {
       "model_id": "1c314d886355454f89dab52e02c8e770",
       "version_major": 2,
       "version_minor": 0
      },
      "text/plain": [
       "VBox()"
      ]
     },
     "metadata": {},
     "output_type": "display_data"
    },
    {
     "name": "stdout",
     "output_type": "stream",
     "text": [
      "Starting Spark application\n"
     ]
    },
    {
     "data": {
      "text/html": [
       "<table>\n",
       "<tr><th>ID</th><th>YARN Application ID</th><th>Kind</th><th>State</th><th>Spark UI</th><th>Driver log</th><th>Current session?</th></tr><tr><td>8</td><td>application_1643027560635_0009</td><td>pyspark</td><td>idle</td><td><a target=\"_blank\" href=\"http://ip-172-31-90-185.ec2.internal:20888/proxy/application_1643027560635_0009/\" class=\"emr-proxy-link\" emr-resource=\"j-19BWPUGR7YEP9\n",
       "\" application-id=\"application_1643027560635_0009\">Link</a></td><td><a target=\"_blank\" href=\"http://ip-172-31-85-29.ec2.internal:8042/node/containerlogs/container_1643027560635_0009_01_000001/livy\" >Link</a></td><td>✔</td></tr></table>"
      ],
      "text/plain": [
       "<IPython.core.display.HTML object>"
      ]
     },
     "metadata": {},
     "output_type": "display_data"
    },
    {
     "data": {
      "application/vnd.jupyter.widget-view+json": {
       "model_id": "",
       "version_major": 2,
       "version_minor": 0
      },
      "text/plain": [
       "FloatProgress(value=0.0, bar_style='info', description='Progress:', layout=Layout(height='25px', width='50%'),…"
      ]
     },
     "metadata": {},
     "output_type": "display_data"
    },
    {
     "name": "stdout",
     "output_type": "stream",
     "text": [
      "SparkSession available as 'spark'.\n"
     ]
    },
    {
     "data": {
      "application/vnd.jupyter.widget-view+json": {
       "model_id": "",
       "version_major": 2,
       "version_minor": 0
      },
      "text/plain": [
       "FloatProgress(value=0.0, bar_style='info', description='Progress:', layout=Layout(height='25px', width='50%'),…"
      ]
     },
     "metadata": {},
     "output_type": "display_data"
    }
   ],
   "source": [
    "from pyspark.sql import SparkSession\n",
    "from pyspark.sql.functions import to_timestamp, date_format, unix_timestamp, col\n",
    "\n",
    "spark = SparkSession \\\n",
    "    .builder \\\n",
    "    .getOrCreate()"
   ]
  },
  {
   "cell_type": "code",
   "execution_count": 3,
   "id": "1a75dffa",
   "metadata": {},
   "outputs": [
    {
     "data": {
      "application/vnd.jupyter.widget-view+json": {
       "model_id": "140327b27ccb468a8edebb1ce250ed58",
       "version_major": 2,
       "version_minor": 0
      },
      "text/plain": [
       "VBox()"
      ]
     },
     "metadata": {},
     "output_type": "display_data"
    },
    {
     "data": {
      "application/vnd.jupyter.widget-view+json": {
       "model_id": "",
       "version_major": 2,
       "version_minor": 0
      },
      "text/plain": [
       "FloatProgress(value=0.0, bar_style='info', description='Progress:', layout=Layout(height='25px', width='50%'),…"
      ]
     },
     "metadata": {},
     "output_type": "display_data"
    }
   ],
   "source": [
    "def run_queries(df,year):\n",
    "    # Total revenue\n",
    "    total_revenue_df = spark.sql(\"\"\"SELECT SUM(Total_Amt) total_revenue\n",
    "                               FROM df\n",
    "                            \"\"\")\n",
    "    total_revenue_df.write.mode(\"overwrite\").option(\"header\",True).csv(f's3://nyc-query/{year}/total_rev')\n",
    "    # Average trip duration by hour of day\n",
    "    avg_trip_duration_df = spark.sql(\"\"\"SELECT H_O_D , AVG(duration) avg_trip_duration\n",
    "                               FROM df\n",
    "                               GROUP BY H_O_D\n",
    "                            \"\"\")\n",
    "    avg_trip_duration_df.write.mode(\"overwrite\").option(\"header\",True).csv(f's3://nyc-query/{year}/avg_dur_hod')\n",
    "    # Average trip duration by day of week\n",
    "    avg_trip_duration_df = spark.sql(\"\"\"SELECT D_O_W , AVG(duration) avg_trip_duration\n",
    "                               FROM df\n",
    "                               GROUP BY D_O_W\n",
    "                            \"\"\")\n",
    "    avg_trip_duration_df.write.mode(\"overwrite\").option(\"header\",True).csv(f's3://nyc-query/{year}/avg_dur_dow')\n",
    "    # Daily pickup count\n",
    "    daily_pickup_count_df = spark.sql(\"\"\"SELECT D_O_Y, COUNT(*) daily_count\n",
    "                               FROM df\n",
    "                               GROUP BY D_O_Y\n",
    "                            \"\"\")\n",
    "    daily_pickup_count_df.write.mode(\"overwrite\").option(\"header\",True).csv(f's3://nyc-query/{year}/daily_pickup_cnt')\n",
    "    # Average price per pickup\n",
    "    avg_pickup_price_df = spark.sql(\"\"\"SELECT SUM(Total_Amt)/COUNT(*) avg_price_pickup\n",
    "                               FROM df\n",
    "                               GROUP BY D_O_Y\n",
    "                            \"\"\")\n",
    "    avg_pickup_price_df.write.mode(\"overwrite\").option(\"header\",True).csv(f's3://nyc-query/{year}/avg_pickup_price_doy')\n",
    "    # Average trip duration by day of year\n",
    "    avg_trip_duration_df = spark.sql(\"\"\"SELECT D_O_Y , AVG(duration) avg_trip_duration\n",
    "                               FROM df\n",
    "                               GROUP BY D_O_Y\n",
    "                            \"\"\")\n",
    "    avg_trip_duration_df.write.mode(\"overwrite\").option(\"header\",True).csv(f's3://nyc-query/{year}/avg_dur_doy')\n",
    "    "
   ]
  },
  {
   "cell_type": "code",
   "execution_count": null,
   "id": "636d4e80",
   "metadata": {},
   "outputs": [
    {
     "data": {
      "application/vnd.jupyter.widget-view+json": {
       "model_id": "09fa7f98199343988e51585c456d5068",
       "version_major": 2,
       "version_minor": 0
      },
      "text/plain": [
       "VBox()"
      ]
     },
     "metadata": {},
     "output_type": "display_data"
    },
    {
     "data": {
      "application/vnd.jupyter.widget-view+json": {
       "model_id": "aae8d74d2292456994d1320af50a2acb",
       "version_major": 2,
       "version_minor": 0
      },
      "text/plain": [
       "FloatProgress(value=0.0, bar_style='info', description='Progress:', layout=Layout(height='25px', width='50%'),…"
      ]
     },
     "metadata": {},
     "output_type": "display_data"
    }
   ],
   "source": [
    "for year in range(2009,2022):\n",
    "    x = 13\n",
    "    if year == 2021:\n",
    "        x = 8\n",
    "    df_list = []\n",
    "    for month in range(1,x):\n",
    "        if month < 10:\n",
    "            month = '0' + str(month)\n",
    "        df_list.append(spark.read.option(\"header\",True).csv(f's3://nyc-tlc/trip data/yellow_tripdata_{year}-{month}.csv'))\n",
    "    \n",
    "    if year == 2016:\n",
    "        temp_list = []\n",
    "        for temp_df in df_list:\n",
    "            temp_df = temp_df.select(['tpep_pickup_datetime', 'tpep_dropoff_datetime','trip_distance','total_amount'])\n",
    "            temp_list.append(temp_df)\n",
    "        df_list = temp_list\n",
    "    df = df_list[0]\n",
    "    for x in df_list[1:]:\n",
    "        df = df.union(x)\n",
    "        \n",
    "    for c in df.columns:\n",
    "        col_name = c\n",
    "        c = c.strip().lower()\n",
    "        if 'pickup_date' in c:\n",
    "            df = df.withColumnRenamed(col_name, 'Trip_Pickup_DateTime')\n",
    "        elif 'dropoff_date' in c:\n",
    "            df = df.withColumnRenamed(col_name, 'Trip_Dropoff_DateTime')\n",
    "        elif 'distance' in c:\n",
    "            df = df.withColumnRenamed(col_name, 'Trip_Distance')\n",
    "        elif 'total' in c:\n",
    "            df = df.withColumnRenamed(col_name, 'Total_Amt')\n",
    "            \n",
    "    df = df.withColumn('duration', to_timestamp('Trip_Dropoff_DateTime').cast('long')- \\\n",
    "                       to_timestamp('Trip_Pickup_DateTime').cast(\"long\"))\n",
    "    df = df.withColumn('year',date_format('Trip_Pickup_DateTime','y'))\n",
    "    df = df.withColumn('Month',date_format('Trip_Pickup_DateTime','M'))\n",
    "    df = df.withColumn('D_O_Y',date_format('Trip_Pickup_DateTime','D'))\n",
    "    df = df.withColumn('H_O_D',date_format('Trip_Pickup_DateTime','k'))\n",
    "    df = df.withColumn('D_O_W',date_format('Trip_Pickup_DateTime','E'))\n",
    "    \n",
    "    df = df.select(['Trip_Distance','Total_Amt','year','Month',\n",
    "                    'D_O_Y','duration','H_O_D','D_O_W'])  \n",
    "    df.createOrReplaceTempView('df')\n",
    "    run_queries(df,year)"
   ]
  },
  {
   "cell_type": "code",
   "execution_count": null,
   "id": "f3a75bd0",
   "metadata": {},
   "outputs": [],
   "source": []
  }
 ],
 "metadata": {
  "kernelspec": {
   "display_name": "PySpark",
   "language": "",
   "name": "pysparkkernel"
  },
  "language_info": {
   "codemirror_mode": {
    "name": "python",
    "version": 3
   },
   "mimetype": "text/x-python",
   "name": "pyspark",
   "pygments_lexer": "python3"
  }
 },
 "nbformat": 4,
 "nbformat_minor": 5
}
