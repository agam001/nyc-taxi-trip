{
 "cells": [
  {
   "cell_type": "code",
   "execution_count": null,
   "id": "e94e1269",
   "metadata": {},
   "outputs": [],
   "source": [
    "import numpy as np # linear algebra\n",
    "import pandas as pd # data processing, CSV file I/O (e.g. pd.read_csv)"
   ]
  },
  {
   "cell_type": "code",
   "execution_count": null,
   "id": "b1e58bc7",
   "metadata": {},
   "outputs": [],
   "source": [
    "us_zipcode = pd.read_csv('/US Zip Codes from 2013 Government Data')\n",
    "nyc_zipcode = pd.read_csv('/NYC Zipcodes - NYC Zip 2020.csv')"
   ]
  },
  {
   "cell_type": "code",
   "execution_count": null,
   "id": "535bebf4",
   "metadata": {},
   "outputs": [],
   "source": [
    "def filter_zip(x):\n",
    "    try:\n",
    "        row = us_zipcode[us_zipcode['ZIP']==x].values\n",
    "        return (row[0][1],row[0][2]) # lat,long\n",
    "    except:\n",
    "        return 0\n",
    "nyc_zipcode['lat,long'] = nyc_zipcode['ZIP Codes'].apply(filter_zip)\n",
    "nyc_zipcode.head(5)"
   ]
  },
  {
   "cell_type": "code",
   "execution_count": null,
   "id": "d795b24e",
   "metadata": {},
   "outputs": [],
   "source": [
    "nyc_zipcode[nyc_zipcode['lat,long']==0].count()"
   ]
  },
  {
   "cell_type": "code",
   "execution_count": null,
   "id": "9e3e98ba",
   "metadata": {},
   "outputs": [],
   "source": [
    "idx = nyc_zipcode[nyc_zipcode['lat,long']==0].index.values[0]\n",
    "nyc_zipcode['lat,long'][idx] = (40.56470,-73.88350)"
   ]
  },
  {
   "cell_type": "code",
   "execution_count": null,
   "id": "c523700d",
   "metadata": {},
   "outputs": [],
   "source": [
    "nyc_zipcode['lat'] = nyc_zipcode['lat,long'].apply(lambda x: x[0])\n",
    "nyc_zipcode['long'] = nyc_zipcode['lat,long'].apply(lambda x: x[1])\n",
    "nyc_zipcode.drop(columns=['lat,long'],inplace=True)\n",
    "nyc_zipcode"
   ]
  }
 ],
 "metadata": {
  "kernelspec": {
   "display_name": "Python 3 (ipykernel)",
   "language": "python",
   "name": "python3"
  },
  "language_info": {
   "codemirror_mode": {
    "name": "ipython",
    "version": 3
   },
   "file_extension": ".py",
   "mimetype": "text/x-python",
   "name": "python",
   "nbconvert_exporter": "python",
   "pygments_lexer": "ipython3",
   "version": "3.8.10"
  }
 },
 "nbformat": 4,
 "nbformat_minor": 5
}
